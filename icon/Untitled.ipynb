{
 "cells": [
  {
   "cell_type": "code",
   "execution_count": 2,
   "id": "b0230787",
   "metadata": {},
   "outputs": [
    {
     "name": "stderr",
     "output_type": "stream",
     "text": [
      "C:\\Users\\Ricar\\AppData\\Local\\Temp\\ipykernel_1256\\1655345023.py:21: DeprecationWarning: ANTIALIAS is deprecated and will be removed in Pillow 10 (2023-07-01). Use LANCZOS or Resampling.LANCZOS instead.\n",
      "  background = background.resize(frontImage.size, Image.ANTIALIAS)\n",
      "C:\\Users\\Ricar\\AppData\\Local\\Temp\\ipykernel_1256\\1655345023.py:32: DeprecationWarning: ANTIALIAS is deprecated and will be removed in Pillow 10 (2023-07-01). Use LANCZOS or Resampling.LANCZOS instead.\n",
      "  frontImage = frontImage.resize((int(frontImage.width * scaling_factor), int(frontImage.height * scaling_factor)), Image.ANTIALIAS)\n"
     ]
    }
   ],
   "source": [
    "from PIL import Image\n",
    "\n",
    "# Front Image\n",
    "filename = 'front.png'\n",
    "\n",
    "# Back Image\n",
    "filename1 = 'back.png'\n",
    "\n",
    "# Open Front Image\n",
    "frontImage = Image.open(filename)\n",
    "\n",
    "# Open Background Image\n",
    "background = Image.open(filename1)\n",
    "\n",
    "# Calculate a scaling factor (e.g., 0.8 for 80% of the original size)\n",
    "scaling_factor = 0.8\n",
    "\n",
    "\n",
    "# Resize images to the size of the smallest image\n",
    "if frontImage.size[0] < background.size[0] or frontImage.size[1] < background.size[1]:\n",
    "    background = background.resize(frontImage.size, Image.ANTIALIAS)\n",
    "else:\n",
    "    frontImage = frontImage.resize(background.size, Image.ANTIALIAS)\n",
    "\n",
    "# Convert image to RGBA\n",
    "frontImage = frontImage.convert(\"RGBA\")\n",
    "\n",
    "# Convert image to RGBA\n",
    "background = background.convert(\"RGBA\")\n",
    "\n",
    "# Resize the front image\n",
    "frontImage = frontImage.resize((int(frontImage.width * scaling_factor), int(frontImage.height * scaling_factor)), Image.ANTIALIAS)\n",
    "\n",
    "# Apply transparency to the front image while preserving the underlying content\n",
    "alpha_value = 160  # Set the desired alpha value (0 to 255, where 0 is fully transparent and 255 is fully opaque)\n",
    "\n",
    "# Create a new image with the same size as the front image, and fill it with a transparent color\n",
    "transparent_image = Image.new(\"RGBA\", frontImage.size, (0, 0, 0, 0))\n",
    "\n",
    "# Blend the frontImage with the transparent_image using the alpha value\n",
    "frontImage = Image.blend(transparent_image, frontImage, alpha=alpha_value / 255)\n",
    "\n",
    "# Calculate width to be at the center\n",
    "width = (background.width - frontImage.width) // 2\n",
    "\n",
    "# Calculate height to be at the center\n",
    "height = (background.height - frontImage.height) // 2\n",
    "\n",
    "# Paste the frontImage at (width, height)\n",
    "background.paste(frontImage, (width, height), frontImage)\n",
    "\n",
    "# Save this image\n",
    "background.save(\"new.png\", format=\"png\")\n",
    "background.save(\"new_icon.ico\", format=\"ICO\", sizes=[(32, 32)])  # You can specify other sizes if needed"
   ]
  },
  {
   "cell_type": "code",
   "execution_count": null,
   "id": "8decc17b",
   "metadata": {},
   "outputs": [],
   "source": []
  }
 ],
 "metadata": {
  "kernelspec": {
   "display_name": "Python 3 (ipykernel)",
   "language": "python",
   "name": "python3"
  },
  "language_info": {
   "codemirror_mode": {
    "name": "ipython",
    "version": 3
   },
   "file_extension": ".py",
   "mimetype": "text/x-python",
   "name": "python",
   "nbconvert_exporter": "python",
   "pygments_lexer": "ipython3",
   "version": "3.10.9"
  }
 },
 "nbformat": 4,
 "nbformat_minor": 5
}

{
 "cells": [
  {
   "cell_type": "code",
   "execution_count": null,
   "id": "19d4ee2d",
   "metadata": {},
   "outputs": [],
   "source": []
  },
  {
   "cell_type": "code",
   "execution_count": 15,
   "id": "c7a22814",
   "metadata": {},
   "outputs": [
    {
     "name": "stdout",
     "output_type": "stream",
     "text": [
      "Excel file \"C:\\Users\\Ricar\\Desktop\\script\\Documents\\Excel_Files\\engineering.xlsx\" created successfully.\n"
     ]
    }
   ],
   "source": [
    "import pandas as pd\n",
    "import re\n",
    "import os\n",
    "\n",
    "# Read content from the text file\n",
    "with open('sitemap.txt', 'r') as file:\n",
    "    content = file.read()\n",
    "\n",
    "# Define a regular expression pattern to match links and dates\n",
    "pattern = r'(.+?)\\s(\\d{4}-\\d{2}-\\d{2})'\n",
    "\n",
    "# Find all matches of the pattern in the content\n",
    "matches = re.findall(pattern, content)\n",
    "\n",
    "# Initialize lists to store links and dates\n",
    "links = []\n",
    "dates = []\n",
    "\n",
    "# Iterate through the matches and extract links and dates\n",
    "for match in matches:\n",
    "    link, date = match\n",
    "    links.append(link)\n",
    "    dates.append(date)\n",
    "\n",
    "# Extract folder_name from the first link\n",
    "first_link = links[0]\n",
    "folder_name = first_link.split('/')[3]  # Assuming folder_name is the fourth element\n",
    "\n",
    "# Get the current working directory (where the script is located)\n",
    "script_directory = os.getcwd()\n",
    "\n",
    "# Create 'Documents' folder on the current script path if it doesn't exist\n",
    "documents_folder = os.path.join(script_directory, 'Documents')\n",
    "os.makedirs(documents_folder, exist_ok=True)\n",
    "\n",
    "# Create 'Excel_Files' folder inside 'Documents' folder if it doesn't exist\n",
    "excel_files_folder = os.path.join(documents_folder, 'Excel_Files')\n",
    "os.makedirs(excel_files_folder, exist_ok=True)\n",
    "\n",
    "# Create 'TxtFiles' folder inside 'Documents' folder if it doesn't exist\n",
    "txt_files_folder = os.path.join(documents_folder, 'TxtFiles')\n",
    "os.makedirs(txt_files_folder, exist_ok=True)\n",
    "\n",
    "# Save the TXT content to a file\n",
    "txt_filename = os.path.join(txt_files_folder, f'{folder_name}.txt')\n",
    "with open(txt_filename, 'w') as txt_file:\n",
    "    txt_file.write(content)\n",
    "\n",
    "# Create a DataFrame\n",
    "data = {'Link': links, 'Template': 'No Carousel', 'Date': dates}\n",
    "df = pd.DataFrame(data)\n",
    "\n",
    "# Save DataFrame to an Excel file\n",
    "excel_filename = os.path.join(excel_files_folder, f'{folder_name}.xlsx')\n",
    "df.to_excel(excel_filename, index=False)\n",
    "\n",
    "print(f'Excel file \"{excel_filename}\" created successfully.')\n",
    "\n"
   ]
  },
  {
   "cell_type": "code",
   "execution_count": null,
   "id": "61ea7573",
   "metadata": {},
   "outputs": [],
   "source": []
  },
  {
   "cell_type": "code",
   "execution_count": null,
   "id": "2f8cdfc0",
   "metadata": {},
   "outputs": [],
   "source": []
  }
 ],
 "metadata": {
  "kernelspec": {
   "display_name": "Python 3 (ipykernel)",
   "language": "python",
   "name": "python3"
  },
  "language_info": {
   "codemirror_mode": {
    "name": "ipython",
    "version": 3
   },
   "file_extension": ".py",
   "mimetype": "text/x-python",
   "name": "python",
   "nbconvert_exporter": "python",
   "pygments_lexer": "ipython3",
   "version": "3.10.9"
  }
 },
 "nbformat": 4,
 "nbformat_minor": 5
}
